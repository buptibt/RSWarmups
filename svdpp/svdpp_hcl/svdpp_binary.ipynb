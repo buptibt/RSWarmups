{
 "cells": [
  {
   "cell_type": "code",
   "execution_count": 1,
   "metadata": {},
   "outputs": [],
   "source": [
    "import pandas as pd\n",
    "import numpy as np\n",
    "from preprocess import *\n",
    "from svdpp import *\n",
    "\n",
    "num_users = 943\n",
    "num_items = 1682\n",
    "ratings_train1 = pd.read_csv('train.csv')\n",
    "arr_train1 = ratings_train1.to_numpy()\n",
    "\n",
    "R1 = np.zeros((num_users,num_items))\n",
    "\n",
    "for record in arr_train1:\n",
    "    uid, mid, _, _ = record\n",
    "    R1[uid-1][mid-1] = 1\n",
    "    \n",
    "mask = (R1>-1)\n",
    "svdpp = SVDPP(R = R1)\n"
   ]
  },
  {
   "cell_type": "code",
   "execution_count": 2,
   "metadata": {},
   "outputs": [
    {
     "name": "stdout",
     "output_type": "stream",
     "text": [
      "0:01:23.044838\n"
     ]
    }
   ],
   "source": [
    "import datetime\n",
    "t1 = datetime.datetime.now()\n",
    "loss_history = svdpp.train(R=R1,mask=mask,epochs=1000,lr=20,reg=0)\n",
    "t2 = datetime.datetime.now()\n",
    "print(t2-t1)"
   ]
  },
  {
   "cell_type": "code",
   "execution_count": 3,
   "metadata": {},
   "outputs": [
    {
     "name": "stdout",
     "output_type": "stream",
     "text": [
      "0.031226100348354883\n",
      "0.028883188119658777\n",
      "0.027388803832240335\n",
      "0.02640295756407454\n",
      "0.025731919491654834\n",
      "0.025262348009157037\n",
      "0.02492594938404555\n",
      "0.024680258475405763\n",
      "0.02449801260283508\n",
      "0.02436115887073583\n"
     ]
    }
   ],
   "source": [
    "for i in range(10):\n",
    "    print(loss_history[i*10])"
   ]
  },
  {
   "cell_type": "code",
   "execution_count": 4,
   "metadata": {},
   "outputs": [
    {
     "name": "stdout",
     "output_type": "stream",
     "text": [
      "0.024266550596611355\n",
      "0.023934548165459875\n",
      "0.02390631039282177\n",
      "0.02390365271547163\n",
      "0.02390328623256432\n",
      "0.02390310158129791\n",
      "0.02390289751284665\n",
      "0.023902644763647583\n",
      "0.023902327089124795\n",
      "0.02390192594639028\n"
     ]
    }
   ],
   "source": [
    "for j in range(10):\n",
    "    print(loss_history[j*100+99])"
   ]
  },
  {
   "cell_type": "code",
   "execution_count": 5,
   "metadata": {},
   "outputs": [
    {
     "data": {
      "text/plain": [
       "24"
      ]
     },
     "execution_count": 5,
     "metadata": {},
     "output_type": "execute_result"
    }
   ],
   "source": [
    "recs = np.array(svdpp.test_bi()[1:])\n",
    "reclists = recs.astype(np.int)\n",
    "test_data = pd.read_csv('test.csv')\n",
    "test_data.loc[0,'movie_id']\n",
    "cnt =0\n",
    "for i in range(num_users):\n",
    "    if test_data.loc[i,'movie_id'] in reclists[i,:5,0]:\n",
    "        cnt+=1\n",
    "cnt"
   ]
  },
  {
   "cell_type": "code",
   "execution_count": 6,
   "metadata": {},
   "outputs": [
    {
     "data": {
      "text/plain": [
       "0.01429395218387828"
      ]
     },
     "execution_count": 6,
     "metadata": {},
     "output_type": "execute_result"
    }
   ],
   "source": [
    "from metrics import dcg\n",
    "from statistics import mean\n",
    "\n",
    "l=list(test_data.movie_id)\n",
    "l=[[x,x,x,x,x] for x in l]\n",
    "ideal = np.array(l)\n",
    "mean([dcg(3,x,5) for x in (reclists[:,:5,0]==ideal)])"
   ]
  },
  {
   "cell_type": "code",
   "execution_count": null,
   "metadata": {},
   "outputs": [],
   "source": []
  }
 ],
 "metadata": {
  "kernelspec": {
   "display_name": "Python 3",
   "language": "python",
   "name": "python3"
  },
  "language_info": {
   "codemirror_mode": {
    "name": "ipython",
    "version": 3
   },
   "file_extension": ".py",
   "mimetype": "text/x-python",
   "name": "python",
   "nbconvert_exporter": "python",
   "pygments_lexer": "ipython3",
   "version": "3.7.3"
  }
 },
 "nbformat": 4,
 "nbformat_minor": 2
}
